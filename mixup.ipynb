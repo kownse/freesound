{
 "cells": [
  {
   "cell_type": "code",
   "execution_count": 2,
   "metadata": {},
   "outputs": [
    {
     "name": "stderr",
     "output_type": "stream",
     "text": [
      "/home/kownse/anaconda3/lib/python3.6/site-packages/h5py/__init__.py:36: FutureWarning: Conversion of the second argument of issubdtype from `float` to `np.floating` is deprecated. In future, it will be treated as `np.float64 == np.dtype(float).type`.\n",
      "  from ._conv import register_converters as _register_converters\n",
      "Using TensorFlow backend.\n",
      "/home/kownse/anaconda3/lib/python3.6/site-packages/sklearn/cross_validation.py:41: DeprecationWarning: This module was deprecated in version 0.18 in favor of the model_selection module into which all the refactored classes and functions are moved. Also note that the interface of the new CV iterators are different from that of this module. This module will be removed in 0.20.\n",
      "  \"This module will be removed in 0.20.\", DeprecationWarning)\n"
     ]
    }
   ],
   "source": [
    "import numpy as np\n",
    "np.random.seed(1001)\n",
    "import os\n",
    "import shutil\n",
    "import pandas as pd\n",
    "from util import *\n",
    "from dataset import *\n",
    "from cnn2d import *\n",
    "from transform import *\n",
    "import librosa\n"
   ]
  },
  {
   "cell_type": "code",
   "execution_count": 8,
   "metadata": {},
   "outputs": [],
   "source": [
    "train_root = '../data/audio_train/'\n",
    "test_root = '../data/audio_test/'\n",
    "\n",
    "nrows = 1\n",
    "test_df = pd.read_csv(\"../data/sample_submission.csv\", nrows = nrows)\n",
    "train_df = pd.read_csv(\"../data/train.csv\", nrows = nrows)"
   ]
  },
  {
   "cell_type": "code",
   "execution_count": 3,
   "metadata": {},
   "outputs": [],
   "source": [
    "train_1 = pd.read_csv('../data/train_mel.csv')"
   ]
  },
  {
   "cell_type": "code",
   "execution_count": 4,
   "metadata": {},
   "outputs": [
    {
     "data": {
      "text/plain": [
       "(56838, 398)"
      ]
     },
     "execution_count": 4,
     "metadata": {},
     "output_type": "execute_result"
    }
   ],
   "source": [
    "train_1.shape"
   ]
  },
  {
   "cell_type": "code",
   "execution_count": 10,
   "metadata": {},
   "outputs": [],
   "source": [
    "def argu_df(df, root, idx):\n",
    "    callbacks = [\n",
    "        LoadAudio(None),\n",
    "        ChangeAmplitude(), \n",
    "        ChangeSpeedAndPitchAudio(), \n",
    "        StretchAudio(),\n",
    "        TimeshiftAudio(),\n",
    "        RandomAudioLength(),\n",
    "    ]\n",
    "    \n",
    "    df_argu = pd.DataFrame()\n",
    "    pbar = tqdm(total=len(df))\n",
    "    for row in df.iterrows():\n",
    "        file_path = train_root + row[1].fname\n",
    "        data =  prepare_wav(file_path, callbacks)\n",
    "        ID = row[1].fname[:row[1].fname.find('.')]\n",
    "        save_file = '{}_arg{}.wav'.format(ID, idx)\n",
    "        save_path = root + save_file\n",
    "        #print(save_path)\n",
    "        librosa.output.write_wav(save_path, data['samples'], data['sample_rate'])\n",
    "        \n",
    "        new_row = row[1].copy()\n",
    "        new_row.fname = save_file\n",
    "        #print()\n",
    "        df_argu = df_argu.append(new_row, ignore_index=True)\n",
    "        \n",
    "        pbar.update(1)\n",
    "    pbar.close()\n",
    "    \n",
    "    return df_argu"
   ]
  },
  {
   "cell_type": "code",
   "execution_count": 11,
   "metadata": {},
   "outputs": [],
   "source": [
    "def argu_df_bulk(df, root, cnt):\n",
    "    for i in range(cnt):\n",
    "        df_argu = argu_df(train_df, train_root, i)\n",
    "        df = df.append(df_argu, ignore_index=True)\n",
    "        \n",
    "    return df"
   ]
  },
  {
   "cell_type": "code",
   "execution_count": 12,
   "metadata": {},
   "outputs": [
    {
     "name": "stderr",
     "output_type": "stream",
     "text": [
      "100%|██████████| 1/1 [00:00<00:00,  2.61it/s]\n",
      "100%|██████████| 1/1 [00:00<00:00,  2.54it/s]\n",
      "100%|██████████| 1/1 [00:00<00:00,  2.36it/s]\n"
     ]
    }
   ],
   "source": [
    "df_argu_train = argu_df_bulk(train_df, train_root, 3)\n",
    "df_argu_train.to_csv('../data/train_argu.csv', index=False)"
   ]
  },
  {
   "cell_type": "code",
   "execution_count": 7,
   "metadata": {},
   "outputs": [
    {
     "data": {
      "text/html": [
       "<div>\n",
       "<style scoped>\n",
       "    .dataframe tbody tr th:only-of-type {\n",
       "        vertical-align: middle;\n",
       "    }\n",
       "\n",
       "    .dataframe tbody tr th {\n",
       "        vertical-align: top;\n",
       "    }\n",
       "\n",
       "    .dataframe thead th {\n",
       "        text-align: right;\n",
       "    }\n",
       "</style>\n",
       "<table border=\"1\" class=\"dataframe\">\n",
       "  <thead>\n",
       "    <tr style=\"text-align: right;\">\n",
       "      <th></th>\n",
       "      <th>fname</th>\n",
       "      <th>label</th>\n",
       "      <th>manually_verified</th>\n",
       "    </tr>\n",
       "  </thead>\n",
       "  <tbody>\n",
       "    <tr>\n",
       "      <th>0</th>\n",
       "      <td>00044347.wav</td>\n",
       "      <td>Hi-hat</td>\n",
       "      <td>0.0</td>\n",
       "    </tr>\n",
       "    <tr>\n",
       "      <th>1</th>\n",
       "      <td>00044347_arg0.wav</td>\n",
       "      <td>Hi-hat</td>\n",
       "      <td>0.0</td>\n",
       "    </tr>\n",
       "    <tr>\n",
       "      <th>2</th>\n",
       "      <td>00044347_arg1.wav</td>\n",
       "      <td>Hi-hat</td>\n",
       "      <td>0.0</td>\n",
       "    </tr>\n",
       "    <tr>\n",
       "      <th>3</th>\n",
       "      <td>00044347_arg2.wav</td>\n",
       "      <td>Hi-hat</td>\n",
       "      <td>0.0</td>\n",
       "    </tr>\n",
       "  </tbody>\n",
       "</table>\n",
       "</div>"
      ],
      "text/plain": [
       "               fname   label  manually_verified\n",
       "0       00044347.wav  Hi-hat                0.0\n",
       "1  00044347_arg0.wav  Hi-hat                0.0\n",
       "2  00044347_arg1.wav  Hi-hat                0.0\n",
       "3  00044347_arg2.wav  Hi-hat                0.0"
      ]
     },
     "execution_count": 7,
     "metadata": {},
     "output_type": "execute_result"
    }
   ],
   "source": [
    "df_argu_train"
   ]
  },
  {
   "cell_type": "code",
   "execution_count": null,
   "metadata": {},
   "outputs": [],
   "source": [
    "x2[0][0][0]"
   ]
  },
  {
   "cell_type": "code",
   "execution_count": null,
   "metadata": {},
   "outputs": [],
   "source": [
    "x3.shape"
   ]
  },
  {
   "cell_type": "code",
   "execution_count": null,
   "metadata": {},
   "outputs": [],
   "source": []
  }
 ],
 "metadata": {
  "kernelspec": {
   "display_name": "Python 3",
   "language": "python",
   "name": "python3"
  }
 },
 "nbformat": 4,
 "nbformat_minor": 2
}
