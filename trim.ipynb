{
 "cells": [
  {
   "cell_type": "code",
   "execution_count": 4,
   "metadata": {
    "scrolled": true
   },
   "outputs": [
    {
     "data": {
      "application/vnd.jupyter.widget-view+json": {
       "model_id": "95c03299ebfd4adf80d36601d13f181a",
       "version_major": 2,
       "version_minor": 0
      },
      "text/plain": [
       "HBox(children=(IntProgress(value=1, bar_style='info', max=1), HTML(value='')))"
      ]
     },
     "metadata": {},
     "output_type": "display_data"
    },
    {
     "name": "stdout",
     "output_type": "stream",
     "text": [
      "\n"
     ]
    }
   ],
   "source": [
    "import os, random, math\n",
    "\n",
    "import pandas as pd\n",
    "import numpy as np\n",
    "import seaborn as sns\n",
    "import matplotlib.pyplot as plt\n",
    "%matplotlib inline\n",
    "\n",
    "import lightgbm as lgb\n",
    "\n",
    "import librosa\n",
    "import librosa.display\n",
    "\n",
    "from scipy.stats import skew, kurtosis\n",
    "from sklearn.model_selection import train_test_split\n",
    "\n",
    "#from prettytable import PrettyTable\n",
    "from tqdm import tqdm_notebook, tqdm_pandas\n",
    "tqdm_notebook().pandas(smoothing=0.7)\n",
    "\n",
    "import IPython\n",
    "import IPython.display as ipd\n",
    "\n",
    "import matplotlib as mpl\n",
    "mpl.rcParams['font.size'] = 14\n",
    "\n",
    "from dataset import *\n",
    "from util import Config, DataGenerator, audio_norm,getCacheTrainData, getCacheTestData"
   ]
  },
  {
   "cell_type": "code",
   "execution_count": null,
   "metadata": {},
   "outputs": [],
   "source": [
    "ipd.Audio('../data/audio_train/00044347.wav')"
   ]
  },
  {
   "cell_type": "code",
   "execution_count": null,
   "metadata": {
    "scrolled": true
   },
   "outputs": [],
   "source": [
    "ipd.Audio('../data/audio_train_trimmed/00044347.wav')"
   ]
  },
  {
   "cell_type": "code",
   "execution_count": 13,
   "metadata": {},
   "outputs": [],
   "source": [
    "train_root = '../data/audio_train/'\n",
    "test_root = '../data/audio_test/'\n",
    "\n",
    "train = pd.read_csv(\"../data/train.csv\", index_col=\"fname\")\n",
    "test = pd.read_csv(\"../data/sample_submission.csv\", index_col=\"fname\")\n",
    "\n",
    "LABELS = list(train.label.unique())\n",
    "label_idx = {label: i for i, label in enumerate(LABELS)}\n",
    "train[\"label_idx\"] = train.label.apply(lambda x: label_idx[x])\n",
    "\n",
    "mels = mfcc = 128\n",
    "mixup = 2\n",
    "mixup_alpha = 2\n",
    "duration = 5\n",
    "argucnt = 3\n",
    "padfunc = 'constant'\n",
    "config = Config(\n",
    "        sampling_rate=16000, n_mels = mels, n_mfcc = mfcc,\n",
    "        audio_duration=duration, n_folds=10, learning_rate=0.001,\n",
    "        postfunc='', mixup=mixup, mixup_alpha = mixup_alpha,\n",
    "        use_mfcc = True\n",
    "    )"
   ]
  },
  {
   "cell_type": "code",
   "execution_count": 14,
   "metadata": {},
   "outputs": [
    {
     "name": "stdout",
     "output_type": "stream",
     "text": [
      "../cache/wav_train_16000_5_9473_128_3.npy\n",
      "\n",
      "wav dtype float16\n",
      "mel dtype float16\n",
      "mfcc dtype float16\n"
     ]
    }
   ],
   "source": [
    "X_train_original, X_train_mel, X_train_mfcc, y =\\\n",
    "        get_cachedata_all_train(train, train_root, config, argucnt, padfunc)"
   ]
  },
  {
   "cell_type": "code",
   "execution_count": 20,
   "metadata": {},
   "outputs": [
    {
     "name": "stdout",
     "output_type": "stream",
     "text": [
      "\n",
      "wav dtype float16\n",
      "mel dtype float16\n",
      "mfcc dtype float16\n"
     ]
    }
   ],
   "source": [
    "X_test_original, X_test_mel, X_test_mfcc =\\\n",
    "        get_cachedata_all_test(test, test_root, config, padfunc)"
   ]
  },
  {
   "cell_type": "code",
   "execution_count": 22,
   "metadata": {},
   "outputs": [],
   "source": [
    "del X_test_original"
   ]
  },
  {
   "cell_type": "code",
   "execution_count": 26,
   "metadata": {},
   "outputs": [
    {
     "name": "stdout",
     "output_type": "stream",
     "text": [
      "-59.88413 23.342537\n",
      "1.0877094e-05 0.99997395\n"
     ]
    }
   ],
   "source": [
    "def combine_normalize(data1, data2):\n",
    "    len_data1 = len(data1)\n",
    "    data_all = np.vstack([data1, data2]).astype(np.float32)\n",
    "    print(data_all.mean(), data_all.std())\n",
    "    data_all = (data_all - data_all.mean()) / data_all.std()\n",
    "    print(data_all.mean(), data_all.std())\n",
    "    data1 = data_all[:len_data1]\n",
    "    data2 = data_all[len_data1:]\n",
    "    return data1, data2\n",
    "    \n",
    "d1, d2 = combine_normalize(X_train_mel, X_test_mel)"
   ]
  },
  {
   "cell_type": "code",
   "execution_count": 27,
   "metadata": {},
   "outputs": [
    {
     "data": {
      "text/plain": [
       "(37892, 128, 157, 1)"
      ]
     },
     "execution_count": 27,
     "metadata": {},
     "output_type": "execute_result"
    }
   ],
   "source": [
    "d1.shape"
   ]
  },
  {
   "cell_type": "code",
   "execution_count": 29,
   "metadata": {},
   "outputs": [
    {
     "data": {
      "text/plain": [
       "(37892, 128, 157, 1)"
      ]
     },
     "execution_count": 29,
     "metadata": {},
     "output_type": "execute_result"
    }
   ],
   "source": [
    "X_train_mel.shape"
   ]
  },
  {
   "cell_type": "code",
   "execution_count": null,
   "metadata": {},
   "outputs": [],
   "source": []
  }
 ],
 "metadata": {
  "kernelspec": {
   "display_name": "Python 3",
   "language": "python",
   "name": "python3"
  },
  "language_info": {
   "codemirror_mode": {
    "name": "ipython",
    "version": 3
   },
   "file_extension": ".py",
   "mimetype": "text/x-python",
   "name": "python",
   "nbconvert_exporter": "python",
   "pygments_lexer": "ipython3",
   "version": "3.6.5"
  }
 },
 "nbformat": 4,
 "nbformat_minor": 2
}
