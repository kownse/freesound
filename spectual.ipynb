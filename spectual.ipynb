{
 "cells": [
  {
   "cell_type": "code",
   "execution_count": 55,
   "metadata": {},
   "outputs": [],
   "source": [
    "import random\n",
    "\n",
    "import numpy as np\n",
    "import librosa\n",
    "from transform import *\n",
    "from dataset import *\n",
    "import matplotlib.pyplot as plt"
   ]
  },
  {
   "cell_type": "code",
   "execution_count": null,
   "metadata": {},
   "outputs": [],
   "source": [
    "data_aug_transform = [\n",
    "    #ChangeAmplitude(), \n",
    "    #ChangeSpeedAndPitchAudio(), \n",
    "    FixAudioLength(5), \n",
    "    ToSTFT(), \n",
    "    #StretchAudioOnSTFT(), \n",
    "    #TimeshiftAudioOnSTFT(), \n",
    "    FixSTFTDimension()\n",
    "]\n",
    "\n",
    "train_feature_transform = [\n",
    "    ToMelSpectrogramFromSTFT(),\n",
    "    DeleteSTFT()\n",
    "]\n",
    "callbacks = [LoadAudio()] + data_aug_transform + train_feature_transform"
   ]
  },
  {
   "cell_type": "code",
   "execution_count": null,
   "metadata": {},
   "outputs": [],
   "source": [
    "data = prepare_wav('../data/audio_train/ae5c5c48.wav', callbacks)"
   ]
  },
  {
   "cell_type": "code",
   "execution_count": 81,
   "metadata": {},
   "outputs": [],
   "source": [
    "mfcc_train = np.load('../cache/mfcc_train_16000_5_128_10.npy')\n",
    "mfcc_test = np.load('../cache/mfcc_test_16000_5_128_10.npy')"
   ]
  },
  {
   "cell_type": "code",
   "execution_count": 82,
   "metadata": {},
   "outputs": [
    {
     "data": {
      "text/plain": [
       "(10, 128, 157, 1)"
      ]
     },
     "execution_count": 82,
     "metadata": {},
     "output_type": "execute_result"
    }
   ],
   "source": [
    "mfcc_train.shape"
   ]
  },
  {
   "cell_type": "code",
   "execution_count": 103,
   "metadata": {},
   "outputs": [
    {
     "name": "stdout",
     "output_type": "stream",
     "text": [
      "(1, 5)\n",
      "5 1\n",
      "4 2\n",
      "3 3\n",
      "2 4\n",
      "1 5\n"
     ]
    }
   ],
   "source": [
    "lst = [1, 2, 3, 4, 5]\n",
    "lst2 = [5,4,3,2,1]\n",
    "print(next(zip(lst, lst2)))\n",
    "for m, n in list(zip(lst,lst2))[::-1]:\n",
    "    print(m, n)"
   ]
  },
  {
   "cell_type": "code",
   "execution_count": null,
   "metadata": {},
   "outputs": [],
   "source": [
    "from keras import losses, models, optimizers\n",
    "from keras.activations import relu, softmax"
   ]
  },
  {
   "cell_type": "code",
   "execution_count": null,
   "metadata": {},
   "outputs": [],
   "source": [
    "#y.get_shape()\n",
    "y_true = np.array([1, 0])\n",
    "y_pre = np.array([1, 0])\n",
    "\n"
   ]
  },
  {
   "cell_type": "code",
   "execution_count": null,
   "metadata": {},
   "outputs": [],
   "source": [
    "input = np.log(softmax(y_pre).clip(1e-5, 1))\n",
    "loss = - np.sum(input * y_true) / input.shape[0]"
   ]
  },
  {
   "cell_type": "code",
   "execution_count": null,
   "metadata": {},
   "outputs": [],
   "source": [
    "loss"
   ]
  },
  {
   "cell_type": "code",
   "execution_count": null,
   "metadata": {},
   "outputs": [],
   "source": [
    "alpha = 2\n",
    "batch_size = 10\n",
    "weight = np.random.beta(alpha, alpha, batch_size)\n",
    "x_weight = weight.reshape(batch_size, 1)\n",
    "y_weight = weight.reshape(batch_size, 1)"
   ]
  },
  {
   "cell_type": "code",
   "execution_count": null,
   "metadata": {},
   "outputs": [],
   "source": [
    "index = np.random.permutation(batch_size)\n",
    "x1, x2 = X, X[index]"
   ]
  },
  {
   "cell_type": "code",
   "execution_count": null,
   "metadata": {},
   "outputs": [],
   "source": [
    "x = x1 * x_weight + x2 * (1 - x_weight)"
   ]
  },
  {
   "cell_type": "code",
   "execution_count": null,
   "metadata": {},
   "outputs": [],
   "source": [
    "x1.shape"
   ]
  },
  {
   "cell_type": "code",
   "execution_count": null,
   "metadata": {},
   "outputs": [],
   "source": []
  }
 ],
 "metadata": {
  "kernelspec": {
   "display_name": "Python 3",
   "language": "python",
   "name": "python3"
  },
  "language_info": {
   "codemirror_mode": {
    "name": "ipython",
    "version": 3
   },
   "file_extension": ".py",
   "mimetype": "text/x-python",
   "name": "python",
   "nbconvert_exporter": "python",
   "pygments_lexer": "ipython3",
   "version": "3.6.5"
  }
 },
 "nbformat": 4,
 "nbformat_minor": 2
}
