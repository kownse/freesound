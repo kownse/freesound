{
 "cells": [
  {
   "cell_type": "code",
   "execution_count": 1,
   "metadata": {
    "scrolled": true
   },
   "outputs": [
    {
     "name": "stderr",
     "output_type": "stream",
     "text": [
      "/home/kownse/anaconda3/lib/python3.6/site-packages/h5py/__init__.py:36: FutureWarning: Conversion of the second argument of issubdtype from `float` to `np.floating` is deprecated. In future, it will be treated as `np.float64 == np.dtype(float).type`.\n",
      "  from ._conv import register_converters as _register_converters\n",
      "Using TensorFlow backend.\n"
     ]
    }
   ],
   "source": [
    "import pandas as pd\n",
    "import numpy as np\n",
    "from util import *"
   ]
  },
  {
   "cell_type": "code",
   "execution_count": 2,
   "metadata": {},
   "outputs": [],
   "source": [
    "train = pd.read_csv(\"../data/train.csv\", index_col=\"fname\")\n",
    "LABELS = list(train.label.unique())"
   ]
  },
  {
   "cell_type": "code",
   "execution_count": null,
   "metadata": {},
   "outputs": [],
   "source": [
    "root_paths = [\n",
    "    '../result/predictions/vgg11_5_256_',\n",
    "    '../result/predictions/mfcc_vgg_5_128_',\n",
    "    '../result/predictions/nn_all_5_128_128',\n",
    "]\n",
    "\n",
    "ensemble(LABELS, 5, root_paths, 'ensemble', 'mel_mfcc_vgg', False)"
   ]
  },
  {
   "cell_type": "code",
   "execution_count": 42,
   "metadata": {},
   "outputs": [
    {
     "name": "stderr",
     "output_type": "stream",
     "text": [
      "100%|██████████| 5/5 [00:00<00:00, 50.37it/s]\n"
     ]
    },
    {
     "name": "stdout",
     "output_type": "stream",
     "text": [
      "             mel_mfcc_1d      mfcc       mel        1d       lgb\n",
      "mel_mfcc_1d     1.000000  0.946390  0.951392  0.887335  0.894544\n",
      "mfcc            0.946390  1.000000  0.968179  0.848812  0.893231\n",
      "mel             0.951392  0.968179  1.000000  0.848257  0.889556\n",
      "1d              0.887335  0.848812  0.848257  1.000000  0.839938\n",
      "lgb             0.894544  0.893231  0.889556  0.839938  1.000000\n",
      "save result\n",
      "zip result\n",
      "upload result\n",
      "cmd: /home/kownse/anaconda3/bin/kaggle competitions submit -c freesound-audio-tagging -f ../result/mix_results.csv.7z -m \"submit\"\n"
     ]
    }
   ],
   "source": [
    "# 0.938\n",
    "# 0.945\n",
    "pred_list = [\n",
    "    ('mel_mfcc_1d', 'scored_mix_0.929', 1),\n",
    "    ('mfcc', 'scored_mfcc_0.921', 1),\n",
    "    #('mfcc_new', 'mfcc_xception_0.803', 1),\n",
    "    ('mel', 'scored_mel_0.947', 1),\n",
    "    ('1d','scored_cnn1d_0.867', 0.9),\n",
    "    ('lgb', 'scored_lgb_0.827', 0.8),\n",
    "    #('lgb_mix', 'scored_lgb_0.831', 0.8),\n",
    "    \n",
    "    #('lgb_new', 'lgb_0.797', 1),\n",
    "    #('lgb_new2', 'lgb_0.814',1)\n",
    "    #('encoder', 'encoder_mel_128_0.64_0.01', 1),\n",
    "]\n",
    "ensemble_results(LABELS, pred_list, 'results', 'mix', True)"
   ]
  },
  {
   "cell_type": "code",
   "execution_count": 41,
   "metadata": {},
   "outputs": [
    {
     "name": "stderr",
     "output_type": "stream",
     "text": [
      "100%|██████████| 7/7 [00:00<00:00, 219.50it/s]\n"
     ]
    },
    {
     "name": "stdout",
     "output_type": "stream",
     "text": [
      "             mel_mfcc_1d      mfcc  mfcc_new       mel        1d       lgb  \\\n",
      "mel_mfcc_1d     1.000000  0.946390  0.943173  0.951392  0.887335  0.894544   \n",
      "mfcc            0.946390  1.000000  0.974475  0.968179  0.848812  0.893231   \n",
      "mfcc_new        0.943173  0.974475  1.000000  0.971598  0.842617  0.886250   \n",
      "mel             0.951392  0.968179  0.971598  1.000000  0.848257  0.889556   \n",
      "1d              0.887335  0.848812  0.842617  0.848257  1.000000  0.839938   \n",
      "lgb             0.894544  0.893231  0.886250  0.889556  0.839938  1.000000   \n",
      "lgb_mix         0.916807  0.920323  0.916113  0.918840  0.841339  0.929645   \n",
      "\n",
      "              lgb_mix  \n",
      "mel_mfcc_1d  0.916807  \n",
      "mfcc         0.920323  \n",
      "mfcc_new     0.916113  \n",
      "mel          0.918840  \n",
      "1d           0.841339  \n",
      "lgb          0.929645  \n",
      "lgb_mix      1.000000  \n",
      "save result\n",
      "zip result\n",
      "upload result\n",
      "cmd: /home/kownse/anaconda3/bin/kaggle competitions submit -c freesound-audio-tagging -f ../result/mix_results.csv.7z -m \"submit\"\n"
     ]
    }
   ],
   "source": [
    "pred_list = [\n",
    "    ('mel_mfcc_1d', 'scored_mix_0.929', 0.2),\n",
    "    \n",
    "    ('mfcc', 'scored_mfcc_0.921', 0.15),\n",
    "    ('mfcc_new', 'mfcc_xception_0.803', 0.05),\n",
    "    \n",
    "    ('mel', 'scored_mel_0.947', 0.4),\n",
    "\n",
    "    ('1d','scored_cnn1d_0.867', 0.12),\n",
    "    \n",
    "    ('lgb', 'scored_lgb_0.827', 0.04),\n",
    "    ('lgb_mix', 'scored_lgb_0.831', 0.04),\n",
    "    \n",
    "    #('numeric', 'scored_numeric_0.807', 1),\n",
    "    #('lgb_new', 'lgb_0.797', 1),\n",
    "    #('lgb_new2', 'lgb_0.814',1)\n",
    "    #('encoder', 'encoder_mel_128_0.64_0.01', 1),\n",
    "]\n",
    "ensemble_results_ratio(LABELS, pred_list, 'results', 'mix', False)"
   ]
  },
  {
   "cell_type": "code",
   "execution_count": 26,
   "metadata": {},
   "outputs": [],
   "source": [
    "mfcc = np.load('../result/ensembles/mfcc_xception_0.803.npy')"
   ]
  },
  {
   "cell_type": "code",
   "execution_count": 27,
   "metadata": {},
   "outputs": [
    {
     "data": {
      "text/plain": [
       "array([[7.0366561e-02, 2.4421879e-03, 1.1891043e-02, ..., 4.3347217e-03,\n",
       "        6.2262299e-03, 4.1452362e-03],\n",
       "       [8.4308181e-03, 3.2448452e-03, 8.6979540e-03, ..., 6.5629277e-04,\n",
       "        5.4722517e-03, 3.4694972e-03],\n",
       "       [1.8206186e-03, 8.6266133e-05, 2.5374666e-04, ..., 2.8911373e-04,\n",
       "        4.0752039e-04, 1.5777014e-03],\n",
       "       ...,\n",
       "       [5.8373407e-04, 1.8317258e-03, 4.3283235e-03, ..., 8.2289381e-03,\n",
       "        3.2995369e-02, 3.7047561e-04],\n",
       "       [7.3624677e-03, 2.4110757e-04, 1.0396866e-03, ..., 7.1644323e-04,\n",
       "        1.6763955e-03, 2.4191965e-03],\n",
       "       [3.0952739e-02, 1.0361741e-03, 3.5024709e-03, ..., 5.6171219e-04,\n",
       "        2.4544585e-03, 1.2265328e-02]], dtype=float32)"
      ]
     },
     "execution_count": 27,
     "metadata": {},
     "output_type": "execute_result"
    }
   ],
   "source": [
    "mfcc"
   ]
  },
  {
   "cell_type": "code",
   "execution_count": null,
   "metadata": {},
   "outputs": [],
   "source": []
  }
 ],
 "metadata": {
  "kernelspec": {
   "display_name": "Python 3",
   "language": "python",
   "name": "python3"
  },
  "language_info": {
   "codemirror_mode": {
    "name": "ipython",
    "version": 3
   },
   "file_extension": ".py",
   "mimetype": "text/x-python",
   "name": "python",
   "nbconvert_exporter": "python",
   "pygments_lexer": "ipython3",
   "version": "3.6.5"
  }
 },
 "nbformat": 4,
 "nbformat_minor": 2
}
