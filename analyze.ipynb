{
 "cells": [
  {
   "cell_type": "code",
   "execution_count": 22,
   "metadata": {
    "scrolled": true
   },
   "outputs": [],
   "source": [
    "import numpy as np\n",
    "#np.random.seed(1001)\n",
    "\n",
    "import os\n",
    "import shutil\n",
    "import pandas as pd\n",
    "import gc\n",
    "from util import *\n",
    "from dataset import *\n",
    "from cnn2d import *\n",
    "from seresnet import *\n",
    "from analyze import *\n",
    "\n",
    "from scipy.stats import skew, kurtosis\n",
    "from sklearn.preprocessing import MinMaxScaler\n",
    "from sklearn.cross_validation import StratifiedKFold\n",
    "from keras.callbacks import (EarlyStopping, LearningRateScheduler,\n",
    "                             ModelCheckpoint, TensorBoard, ReduceLROnPlateau)\n",
    "\n",
    "import logging\n",
    "import IPython.display as ipd"
   ]
  },
  {
   "cell_type": "code",
   "execution_count": null,
   "metadata": {},
   "outputs": [],
   "source": [
    "train_root = '../data/audio_train/'\n",
    "test_root = '../data/audio_test/'\n",
    "train = pd.read_csv(\"../data/train.csv\", index_col=\"fname\")\n",
    "test = pd.read_csv(\"../data/sample_submission.csv\", index_col=\"fname\")\n",
    "\n",
    "LABELS = list(train.label.unique())\n",
    "label_idx = {label: i for i, label in enumerate(LABELS)}\n",
    "train[\"label_idx\"] = train.label.apply(lambda x: label_idx[x])\n",
    "\n",
    "train = train[:10]\n",
    "test = test[:10]\n",
    "\n",
    "argucnt = 3\n",
    "config = Config(\n",
    "            sampling_rate=16000, n_mels = 128, n_mfcc = 128,\n",
    "            audio_duration=5, n_folds=10, learning_rate=0.001,\n",
    "            postfunc='', mixup=5, mixup_alpha = 2,\n",
    "            use_mfcc = True\n",
    "        )"
   ]
  },
  {
   "cell_type": "code",
   "execution_count": null,
   "metadata": {},
   "outputs": [],
   "source": [
    "def mfcc_stats_one(data):\n",
    "    M = librosa.feature.mfcc(data, sr=16000, n_mfcc=20)\n",
    "    data_row = np.hstack((np.mean(M, axis=1), np.std(M, axis=1), np.min(M, axis=1),\n",
    "                              np.max(M, axis=1), skew(M, axis=1), kurtosis(M, axis=1)))\n",
    "    spectral_features = [\n",
    "        librosa.feature.spectral_centroid,\n",
    "        librosa.feature.spectral_bandwidth,\n",
    "        librosa.feature.spectral_contrast,\n",
    "        librosa.feature.spectral_rolloff,\n",
    "        librosa.feature.spectral_flatness,\n",
    "        librosa.feature.zero_crossing_rate\n",
    "    ]\n",
    "    for feat in spectral_features:\n",
    "        S = feat(data)[0]\n",
    "        #print(data_row.shape, S.shape)\n",
    "        data_row = np.hstack((data_row, np.mean(S), np.std(S), np.min(S),\n",
    "                              np.max(S), skew(S), kurtosis(S)))\n",
    "        \n",
    "    return data_row\n",
    "\n",
    "def mfcc_stats(wav):\n",
    "    res = np.zeros((len(wav), 156), np.float32)\n",
    "    for i in tqdm(range(len(wav))):\n",
    "        data = wav[i].squeeze()\n",
    "        data_row = mfcc_stats_one(data)\n",
    "        res[i] = data_row\n",
    "    return clean_np(res)\n",
    "\n",
    "def get_cache_mfcc_statics(wav, config, flex = ''):\n",
    "    flex = '{}_{}_{}_{}'.format(config.sampling_rate, config.audio_duration,\n",
    "                                len(wav), flex)\n",
    "    statics_path = '../cache/mfcc_statics_{}.npy'.format(flex)\n",
    "    if os.path.exists(statics_path):\n",
    "        mfcc_statics = np.load(statics_path)\n",
    "    else:\n",
    "        mfcc_statics = mfcc_stats(wav)\n",
    "        np.save(statics_path, mfcc_statics)\n",
    "    return mfcc_statics"
   ]
  },
  {
   "cell_type": "code",
   "execution_count": null,
   "metadata": {},
   "outputs": [],
   "source": [
    "X_train_original, X_train_mel, X_train_mfcc, y =\\\n",
    "            get_cachedata_all_train(train, train_root, config, argucnt, 'constant')"
   ]
  },
  {
   "cell_type": "code",
   "execution_count": null,
   "metadata": {},
   "outputs": [],
   "source": [
    "mel_new = get_cache_mfcc_statics(X_train_original, config, 'train')"
   ]
  },
  {
   "cell_type": "code",
   "execution_count": 2,
   "metadata": {},
   "outputs": [],
   "source": [
    "#mfcc = np.load('../cache/mfcc_statics_16000_5_9400_test.npy')\n",
    "mel = np.load('../cache/mel_statics_16000_5_9400_test.npy')\n",
    "#wav = np.load('../cache/wav_statics_16000_5_9400_test.npy')\n",
    "#seg = np.load('../cache/segment_statics_16000_5_9400_test.npy')"
   ]
  },
  {
   "cell_type": "code",
   "execution_count": 4,
   "metadata": {},
   "outputs": [
    {
     "data": {
      "text/plain": [
       "(9400, 192)"
      ]
     },
     "execution_count": 4,
     "metadata": {},
     "output_type": "execute_result"
    }
   ],
   "source": [
    "mel.shape"
   ]
  },
  {
   "cell_type": "code",
   "execution_count": 40,
   "metadata": {
    "scrolled": true
   },
   "outputs": [
    {
     "name": "stdout",
     "output_type": "stream",
     "text": [
      "../cache/wav_train_16000_5_9473_128_3.npy\n"
     ]
    }
   ],
   "source": [
    "train_root = '../data/audio_train/'\n",
    "test_root = '../data/audio_test/'\n",
    "\n",
    "train = pd.read_csv(\"../data/train.csv\", index_col=\"fname\")\n",
    "test = pd.read_csv(\"../data/sample_submission.csv\", index_col=\"fname\")\n",
    "\n",
    "config = Config(sampling_rate=16000, n_mels = 128, \n",
    "                        audio_duration=5, n_folds=10, learning_rate=0.001,\n",
    "                       postfunc='', mixup=0, mixup_alpha = 2,\n",
    "                       use_mfcc = True)\n",
    "argucnt = 3\n",
    "padfunc = 'constant'\n",
    "X_train_original, X_train_mel, X_train_mfcc, y =\\\n",
    "    get_cachedata_all_train(train, train_root, config, argucnt, padfunc)\n",
    "X_test_original, X_test_mel, X_test_mfcc =\\\n",
    "    get_cachedata_all_test(test, test_root, config, padfunc)\n",
    "\n",
    "wav_statics_train = get_cache_wav_statics(X_train_original, config, 'train')\n",
    "wav_statics_test = get_cache_wav_statics(X_test_original, config, 'test')\n",
    "\n",
    "wav_statics_train[wav_statics_train == -np.inf] = 0\n",
    "wav_statics_test[wav_statics_test == -np.inf] = 0\n",
    "\n",
    "mfcc_statics_train = get_cache_mfcc_statics(X_train_original, config, flex='train')\n",
    "mfcc_statics_test = get_cache_mfcc_statics(X_test_original, config, flex='test')\n",
    "\n",
    "mel_statics_train = get_cache_mel_statics(X_train_original, config, flex='train')\n",
    "mel_statics_test = get_cache_mel_statics(X_test_original, config, flex='test')\n",
    "\n",
    "seg_statics_train = get_segment_statics(X_train_original, config, flex='train')\n",
    "seg_statics_test = get_segment_statics(X_test_original, config, flex='test')\n",
    "\n",
    "train_statics = np.hstack([wav_statics_train, mfcc_statics_train, mel_statics_train, seg_statics_train])\n",
    "test_statics = np.hstack([wav_statics_test, mfcc_statics_test, mel_statics_test, seg_statics_test])"
   ]
  },
  {
   "cell_type": "code",
   "execution_count": 25,
   "metadata": {},
   "outputs": [],
   "source": [
    "scaler = MinMaxScaler()"
   ]
  },
  {
   "cell_type": "code",
   "execution_count": 42,
   "metadata": {},
   "outputs": [],
   "source": [
    "all_statics = scaler.fit_transform(test_statics)"
   ]
  },
  {
   "cell_type": "code",
   "execution_count": 39,
   "metadata": {},
   "outputs": [
    {
     "data": {
      "text/plain": [
       "array([-inf, -inf, -inf, -inf, -inf, -inf, -inf, -inf, -inf, -inf, -inf,\n",
       "       -inf, -inf, -inf, -inf, -inf, -inf, -inf, -inf, -inf, -inf, -inf,\n",
       "       -inf, -inf, -inf, -inf, -inf, -inf, -inf, -inf, -inf, -inf, -inf,\n",
       "       -inf, -inf, -inf, -inf, -inf, -inf, -inf, -inf, -inf, -inf, -inf,\n",
       "       -inf, -inf, -inf, -inf, -inf, -inf, -inf, -inf, -inf, -inf, -inf,\n",
       "       -inf, -inf, -inf, -inf, -inf, -inf, -inf, -inf, -inf, -inf, -inf,\n",
       "       -inf, -inf, -inf, -inf, -inf, -inf, -inf, -inf, -inf, -inf, -inf,\n",
       "       -inf, -inf, -inf, -inf, -inf, -inf, -inf, -inf, -inf, -inf, -inf,\n",
       "       -inf, -inf, -inf, -inf, -inf, -inf, -inf, -inf, -inf, -inf, -inf,\n",
       "       -inf, -inf, -inf, -inf, -inf, -inf, -inf, -inf, -inf, -inf, -inf,\n",
       "       -inf, -inf, -inf, -inf, -inf], dtype=float32)"
      ]
     },
     "execution_count": 39,
     "metadata": {},
     "output_type": "execute_result"
    }
   ],
   "source": [
    "wav_statics_train[wav_statics_train == -np.inf]"
   ]
  },
  {
   "cell_type": "code",
   "execution_count": null,
   "metadata": {},
   "outputs": [],
   "source": []
  }
 ],
 "metadata": {
  "kernelspec": {
   "display_name": "Python 3",
   "language": "python",
   "name": "python3"
  },
  "language_info": {
   "codemirror_mode": {
    "name": "ipython",
    "version": 3
   },
   "file_extension": ".py",
   "mimetype": "text/x-python",
   "name": "python",
   "nbconvert_exporter": "python",
   "pygments_lexer": "ipython3",
   "version": "3.6.5"
  }
 },
 "nbformat": 4,
 "nbformat_minor": 2
}
